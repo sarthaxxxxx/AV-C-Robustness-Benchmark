{
 "cells": [
  {
   "cell_type": "code",
   "execution_count": 2,
   "metadata": {},
   "outputs": [],
   "source": [
    "import os\n",
    "import pandas as pd\n",
    "from tqdm import tqdm"
   ]
  },
  {
   "cell_type": "code",
   "execution_count": 5,
   "metadata": {},
   "outputs": [],
   "source": [
    "column_names = [\"vid\", \"label\", \"split\"]\n",
    "path = '/mnt/user/saksham/AV_robust/AV-C-Robustness-Benchmark/misc/EquiAV/dataprep/meta/train.csv'\n",
    "df_train = pd.read_csv(path, header=None, names=column_names)\n",
    "df_train['split'] = 'train'\n",
    "\n",
    "path = '/mnt/user/saksham/AV_robust/AV-C-Robustness-Benchmark/misc/EquiAV/dataprep/meta/test.csv'\n",
    "df_test = pd.read_csv(path, header=None, names=column_names)\n",
    "df_test['split'] = 'test'\n",
    "\n",
    "df = pd.concat([df_train, df_test], ignore_index=True)\n",
    "df['vid'] = df['vid'].apply(lambda x: x.split('.')[0])"
   ]
  },
  {
   "cell_type": "code",
   "execution_count": 19,
   "metadata": {},
   "outputs": [
    {
     "name": "stderr",
     "output_type": "stream",
     "text": [
      "100%|██████████| 309/309 [00:00<00:00, 34683.15it/s]\n"
     ]
    }
   ],
   "source": [
    "cls_idx_path = '/mnt/user/saksham/AV_robust/AV-C-Robustness-Benchmark/misc/EquiAV/dataprep/VGGSound/class_labels_indices.csv'\n",
    "df_temp = pd.read_csv(cls_idx_path, usecols=[\"mid\", \"display_name\"])\n",
    "\n",
    "label_idx_map = {}\n",
    "\n",
    "for i, row in tqdm(df_temp.iterrows(), total=len(df_temp)):\n",
    "    label = row['display_name'].replace('_', ',')\n",
    "    label_idx_map[label] = row['mid']"
   ]
  },
  {
   "cell_type": "code",
   "execution_count": 21,
   "metadata": {},
   "outputs": [],
   "source": [
    "df['label_equiav'] = df['label'].apply(lambda x: label_idx_map[x])\n",
    "\n",
    "save_path = '/mnt/user/saksham/AV_robust/AV-C-Robustness-Benchmark/misc/EquiAV/dataprep/meta/vgg_comb.csv'\n",
    "df.to_csv(save_path, index=False)"
   ]
  }
 ],
 "metadata": {
  "kernelspec": {
   "display_name": "pixart",
   "language": "python",
   "name": "python3"
  },
  "language_info": {
   "codemirror_mode": {
    "name": "ipython",
    "version": 3
   },
   "file_extension": ".py",
   "mimetype": "text/x-python",
   "name": "python",
   "nbconvert_exporter": "python",
   "pygments_lexer": "ipython3",
   "version": "3.9.19"
  }
 },
 "nbformat": 4,
 "nbformat_minor": 2
}
