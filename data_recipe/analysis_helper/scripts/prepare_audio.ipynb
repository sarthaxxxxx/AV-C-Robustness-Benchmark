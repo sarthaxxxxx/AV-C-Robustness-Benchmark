{
 "cells": [
  {
   "cell_type": "code",
   "execution_count": null,
   "metadata": {
    "vscode": {
     "languageId": "plaintext"
    }
   },
   "outputs": [],
   "source": [
    "import torch\n",
    "import torchaudio\n",
    "import os"
   ]
  },
  {
   "cell_type": "code",
   "execution_count": null,
   "metadata": {
    "vscode": {
     "languageId": "plaintext"
    }
   },
   "outputs": [],
   "source": [
    "audio_file = '/mnt/user/saksham/AV_robust/AV-C-Robustness-Benchmark/data_recipe/src/noise_files/snow2.mp3'\n",
    "output_folder = '/mnt/user/saksham/AV_robust/AV-C-Robustness-Benchmark/data_recipe/src/noise_files/snow'\n",
    "\n",
    "def split_and_save_audio(audio_file, output_folder, chunk_duration=10, target_sr=16000):\n",
    "    waveform, sr = torchaudio.load(audio_file)  # shape: [channels, samples]\n",
    "    if waveform.shape[0] > 1:\n",
    "        waveform = torch.mean(waveform, dim=0, keepdim=True)\n",
    "    if sr != target_sr:\n",
    "        resampler = torchaudio.transforms.Resample(orig_freq=sr, new_freq=target_sr)\n",
    "        waveform = resampler(waveform)\n",
    "        sr = target_sr  # Update sample rate\n",
    "    \n",
    "    chunk_samples = chunk_duration * sr\n",
    "    total_samples = waveform.shape[1]\n",
    "\n",
    "    for i, start in enumerate(range(0, total_samples, chunk_samples)):\n",
    "        end = min(start + chunk_samples, total_samples)\n",
    "        chunk = waveform[:, start:end]\n",
    "\n",
    "        if chunk.shape[1] < chunk_samples:\n",
    "            continue\n",
    "            pad_size = chunk_samples - chunk.shape[1]\n",
    "            chunk = torch.nn.functional.pad(chunk, (0, pad_size))\n",
    "\n",
    "        chunk_path = os.path.join(output_folder, f\"snow2_{i+1}.wav\")\n",
    "        torchaudio.save(chunk_path, chunk, sample_rate=sr)\n",
    "\n",
    "split_and_save_audio(audio_file, output_folder, chunk_duration=9)\n"
   ]
  }
 ],
 "metadata": {
  "language_info": {
   "name": "python"
  }
 },
 "nbformat": 4,
 "nbformat_minor": 2
}
