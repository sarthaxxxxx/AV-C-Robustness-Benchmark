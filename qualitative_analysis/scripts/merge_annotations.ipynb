{
 "cells": [
  {
   "cell_type": "code",
   "execution_count": 11,
   "metadata": {},
   "outputs": [],
   "source": [
    "import os\n",
    "import json\n",
    "import pandas as pd\n",
    "from tqdm import tqdm"
   ]
  },
  {
   "cell_type": "code",
   "execution_count": 12,
   "metadata": {},
   "outputs": [],
   "source": [
    "data = []\n",
    "def add_row(vid, comment, user):\n",
    "    data.append({\"vid\": vid, \"comments\": comment, \"user\": user})"
   ]
  },
  {
   "cell_type": "code",
   "execution_count": 13,
   "metadata": {},
   "outputs": [
    {
     "name": "stderr",
     "output_type": "stream",
     "text": [
      "100%|██████████| 98/98 [00:00<00:00, 42063.22it/s]\n"
     ]
    }
   ],
   "source": [
    "curr_base_dir = '/mnt/user/saksham/AV_robust/AV-C-Robustness-Benchmark/qualitative_analysis/data/saksham_singh_kushwaha/'\n",
    "json_path = os.path.join(curr_base_dir, 'seen_indices.json')\n",
    "json_data = json.load(open(json_path))\n",
    "USER='saksham'\n",
    "\n",
    "for vid in tqdm(json_data):\n",
    "    vid_anno_path = os.path.join(curr_base_dir, vid+'.json')\n",
    "    vid_anno = json.load(open(vid_anno_path))\n",
    "    add_row(vid, vid_anno['comments'], USER)"
   ]
  },
  {
   "cell_type": "code",
   "execution_count": 14,
   "metadata": {},
   "outputs": [
    {
     "name": "stderr",
     "output_type": "stream",
     "text": [
      "100%|██████████| 45/45 [00:00<00:00, 34817.13it/s]\n"
     ]
    }
   ],
   "source": [
    "curr_base_dir = '/mnt/user/saksham/AV_robust/AV-C-Robustness-Benchmark/qualitative_analysis/data/shriniketh_mukundan'\n",
    "json_path = os.path.join(curr_base_dir, 'seen_indices.json')\n",
    "json_data = json.load(open(json_path))\n",
    "USER='shriniketh'\n",
    "\n",
    "for vid in tqdm(json_data):\n",
    "    vid_anno_path = os.path.join(curr_base_dir, vid+'.json')\n",
    "    vid_anno = json.load(open(vid_anno_path))\n",
    "    add_row(vid, vid_anno['comments'], USER)"
   ]
  },
  {
   "cell_type": "code",
   "execution_count": 16,
   "metadata": {},
   "outputs": [],
   "source": [
    "save_path = '/mnt/user/saksham/AV_robust/AV-C-Robustness-Benchmark/qualitative_analysis/data/merged/merged.json'\n",
    "df = pd.DataFrame(data)\n",
    "df.to_csv(save_path, index=False)"
   ]
  },
  {
   "cell_type": "code",
   "execution_count": null,
   "metadata": {},
   "outputs": [],
   "source": []
  }
 ],
 "metadata": {
  "kernelspec": {
   "display_name": "pixart",
   "language": "python",
   "name": "python3"
  },
  "language_info": {
   "codemirror_mode": {
    "name": "ipython",
    "version": 3
   },
   "file_extension": ".py",
   "mimetype": "text/x-python",
   "name": "python",
   "nbconvert_exporter": "python",
   "pygments_lexer": "ipython3",
   "version": "3.9.19"
  }
 },
 "nbformat": 4,
 "nbformat_minor": 2
}
