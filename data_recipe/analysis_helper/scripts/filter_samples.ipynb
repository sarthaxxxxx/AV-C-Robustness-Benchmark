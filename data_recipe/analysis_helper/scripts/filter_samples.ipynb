{
 "cells": [
  {
   "cell_type": "code",
   "execution_count": 1,
   "metadata": {},
   "outputs": [],
   "source": [
    "import os\n",
    "import random\n",
    "import pandas as pd\n",
    "import shutil\n",
    "from pydub import AudioSegment"
   ]
  },
  {
   "cell_type": "code",
   "execution_count": null,
   "metadata": {},
   "outputs": [],
   "source": [
    "audio_dir = '/mnt/data2/saksham/AV_robust/avsync15/audio'\n",
    "frame_dir = '/mnt/data2/saksham/AV_robust/avsync15/frames'\n",
    "meta_dir = '/mnt/user/saksham/AV_robust/AV-C-Robustness-Benchmark/train/meta/asva.csv'\n",
    "save_path = '/mnt/user/saksham/AV_robust/AV-C-Robustness-Benchmark/data_recipe/analysis_helper/data/clean'\n",
    "\n",
    "df = pd.read_csv(meta_dir)\n",
    "df = df[df['split'] == 'test'].reset_index(drop=True)\n",
    "df = df.groupby(\"label\").sample(n=1).reset_index(drop=True)\n",
    "df = df.sample(5).reset_index(drop=True)"
   ]
  },
  {
   "cell_type": "code",
   "execution_count": null,
   "metadata": {},
   "outputs": [],
   "source": [
    "for index, row in df.iterrows():\n",
    "    center_frame = int(row['frames_count']) // 2\n",
    "    path_frame = os.path.join(frame_dir, row['label'], row['vid'] +'.mp4', '{:06d}.jpg'.format(center_frame))\n",
    "    save_frame = os.path.join(save_path, row['label'] + '.jpg')\n",
    "    shutil.copy(path_frame, save_frame)\n",
    "    \n",
    "    path_audio = os.path.join(audio_dir, row['label'], row['vid'] + '.wav')\n",
    "    save_audio = os.path.join(save_path, row['label'] + '.wav')\n",
    "    audio = AudioSegment.from_file(path_audio)\n",
    "    mono_audio = audio.set_channels(1)\n",
    "    mono_audio.export(save_audio, format=\"wav\")"
   ]
  },
  {
   "cell_type": "code",
   "execution_count": null,
   "metadata": {},
   "outputs": [],
   "source": []
  }
 ],
 "metadata": {
  "kernelspec": {
   "display_name": "pixart",
   "language": "python",
   "name": "python3"
  },
  "language_info": {
   "codemirror_mode": {
    "name": "ipython",
    "version": 3
   },
   "file_extension": ".py",
   "mimetype": "text/x-python",
   "name": "python",
   "nbconvert_exporter": "python",
   "pygments_lexer": "ipython3",
   "version": "3.9.19"
  }
 },
 "nbformat": 4,
 "nbformat_minor": 2
}
