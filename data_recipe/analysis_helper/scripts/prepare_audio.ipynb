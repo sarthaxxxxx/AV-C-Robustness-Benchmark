{
 "cells": [
  {
   "cell_type": "code",
   "execution_count": 1,
   "metadata": {},
   "outputs": [],
   "source": [
    "import torch\n",
    "import torchaudio\n",
    "import os"
   ]
  },
  {
   "cell_type": "code",
   "execution_count": 3,
   "metadata": {},
   "outputs": [],
   "source": [
    "audio_file = '/mnt/user/saksham/AV_robust/AV-C-Robustness-Benchmark/data_recipe/src/noise_files/all_sounds/concert2.mp3'\n",
    "output_folder = '/mnt/user/saksham/AV_robust/AV-C-Robustness-Benchmark/data_recipe/src/noise_files/concert'\n",
    "\n",
    "def split_and_save_audio(audio_file, output_folder, chunk_duration=10, target_sr=16000):\n",
    "    waveform, sr = torchaudio.load(audio_file)  # shape: [channels, samples]\n",
    "    if waveform.shape[0] > 1:\n",
    "        waveform = torch.mean(waveform, dim=0, keepdim=True)\n",
    "    if sr != target_sr:\n",
    "        resampler = torchaudio.transforms.Resample(orig_freq=sr, new_freq=target_sr)\n",
    "        waveform = resampler(waveform)\n",
    "        sr = target_sr  # Update sample rate\n",
    "    \n",
    "    chunk_samples = chunk_duration * sr\n",
    "    total_samples = waveform.shape[1]\n",
    "\n",
    "    for i, start in enumerate(range(0, total_samples, chunk_samples)):\n",
    "        end = min(start + chunk_samples, total_samples)\n",
    "        chunk = waveform[:, start:end]\n",
    "\n",
    "        if chunk.shape[1] < chunk_samples:\n",
    "            continue\n",
    "            pad_size = chunk_samples - chunk.shape[1]\n",
    "            chunk = torch.nn.functional.pad(chunk, (0, pad_size))\n",
    "\n",
    "        chunk_path = os.path.join(output_folder, f\"concert2_{i+1}.wav\")\n",
    "        torchaudio.save(chunk_path, chunk, sample_rate=sr)\n",
    "\n",
    "split_and_save_audio(audio_file, output_folder, chunk_duration=10)\n"
   ]
  },
  {
   "cell_type": "code",
   "execution_count": null,
   "metadata": {},
   "outputs": [],
   "source": []
  }
 ],
 "metadata": {
  "kernelspec": {
   "display_name": "pixart",
   "language": "python",
   "name": "python3"
  },
  "language_info": {
   "codemirror_mode": {
    "name": "ipython",
    "version": 3
   },
   "file_extension": ".py",
   "mimetype": "text/x-python",
   "name": "python",
   "nbconvert_exporter": "python",
   "pygments_lexer": "ipython3",
   "version": "3.9.19"
  }
 },
 "nbformat": 4,
 "nbformat_minor": 2
}
