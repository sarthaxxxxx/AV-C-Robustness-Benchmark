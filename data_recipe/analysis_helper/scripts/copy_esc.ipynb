{
 "cells": [
  {
   "cell_type": "code",
   "execution_count": null,
   "metadata": {
    "vscode": {
     "languageId": "plaintext"
    }
   },
   "outputs": [],
   "source": [
    "import pandas as pd\n",
    "import os\n",
    "import shutil"
   ]
  },
  {
   "cell_type": "code",
   "execution_count": null,
   "metadata": {
    "vscode": {
     "languageId": "plaintext"
    }
   },
   "outputs": [],
   "source": [
    "meta_path = '/mnt/data2/saksham/AV_robust/ESC-50/meta/esc50.csv'\n",
    "audio_dir = '/mnt/data2/saksham/AV_robust/ESC-50/audio/'\n",
    "save_dir = '/mnt/user/saksham/AV_robust/AV-C-Robustness-Benchmark/data_recipe/src/noise_files/crackling_fire_and_siren'\n",
    "df = pd.read_csv(meta_path)\n",
    "df = df[df['category']=='siren'].reset_index(drop=True)\n",
    "df = df[df['fold']==5].reset_index(drop=True)"
   ]
  },
  {
   "cell_type": "code",
   "execution_count": null,
   "metadata": {
    "vscode": {
     "languageId": "plaintext"
    }
   },
   "outputs": [],
   "source": [
    "for i, row in df.iterrows():\n",
    "    read_path = os.path.join(audio_dir, row['filename'])\n",
    "    save_path = os.path.join(save_dir, row['filename'])\n",
    "    shutil.copy(read_path, save_path)"
   ]
  }
 ],
 "metadata": {
  "language_info": {
   "name": "python"
  }
 },
 "nbformat": 4,
 "nbformat_minor": 2
}
